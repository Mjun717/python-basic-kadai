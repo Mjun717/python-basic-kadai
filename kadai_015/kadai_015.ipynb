{
  "nbformat": 4,
  "nbformat_minor": 0,
  "metadata": {
    "colab": {
      "provenance": []
    },
    "kernelspec": {
      "name": "python3",
      "display_name": "Python 3"
    },
    "language_info": {
      "name": "python"
    }
  },
  "cells": [
    {
      "cell_type": "code",
      "execution_count": 4,
      "metadata": {
        "colab": {
          "base_uri": "https://localhost:8080/"
        },
        "id": "IpYqvsbiSf_K",
        "outputId": "a4b91121-f52f-4b88-9cc2-393c49092e71"
      },
      "outputs": [
        {
          "output_type": "stream",
          "name": "stdout",
          "text": [
            "name: 松本隼也, age: 39\n"
          ]
        }
      ],
      "source": [
        "class Human:\n",
        "  def __init__(self):\n",
        "    self.name = \"\"\n",
        "    self.age = \"\"\n",
        "\n",
        "  def set(self, name, age):\n",
        "    self.name = name\n",
        "    self.age = age\n",
        "\n",
        "  def printinfo(self):\n",
        "    print(f\"name: {self.name}, age: {self.age}\")\n",
        "\n",
        "human = Human()\n",
        "\n",
        "human.set(\"松本隼也\", 39)\n",
        "\n",
        "human.printinfo()"
      ]
    }
  ]
}