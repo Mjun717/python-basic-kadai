{
  "nbformat": 4,
  "nbformat_minor": 0,
  "metadata": {
    "colab": {
      "provenance": []
    },
    "kernelspec": {
      "name": "python3",
      "display_name": "Python 3"
    },
    "language_info": {
      "name": "python"
    }
  },
  "cells": [
    {
      "cell_type": "code",
      "execution_count": 4,
      "metadata": {
        "id": "VXVwsMCT6sxx",
        "colab": {
          "base_uri": "https://localhost:8080/"
        },
        "outputId": "27eb0909-3711-4ba7-df35-01e097508bcf"
      },
      "outputs": [
        {
          "output_type": "stream",
          "name": "stdout",
          "text": [
            "台形の面積は75.0㎠\n"
          ]
        }
      ],
      "source": [
        "top_line = 10\n",
        "bottom_line = 20\n",
        "height = 5\n",
        "trapezoid = (top_line + bottom_line) * height / 2\n",
        "\n",
        "print(f\"台形の面積は{trapezoid}㎠\")"
      ]
    }
  ]
}