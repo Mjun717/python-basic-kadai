{
  "nbformat": 4,
  "nbformat_minor": 0,
  "metadata": {
    "colab": {
      "provenance": []
    },
    "kernelspec": {
      "name": "python3",
      "display_name": "Python 3"
    },
    "language_info": {
      "name": "python"
    }
  },
  "cells": [
    {
      "cell_type": "code",
      "execution_count": null,
      "metadata": {
        "colab": {
          "base_uri": "https://localhost:8080/"
        },
        "id": "nZ3IQ8buK3zo",
        "outputId": "2ca89dd7-f7a3-491a-d77c-3be13211b354"
      },
      "outputs": [
        {
          "output_type": "stream",
          "name": "stdout",
          "text": [
            "Fizz\n"
          ]
        }
      ],
      "source": [
        "import random\n",
        "\n",
        "var = random.randint(0, 100)\n",
        "\n",
        "if var % 3 == 0 and var % 5 == 0:\n",
        "  print(\"Fizz\")\n",
        "\n",
        "elif var % 3 == 0:\n",
        "  print(\"Buzz\")\n",
        "\n",
        "elif var % 5 == 0:\n",
        "  print(\"FizzBuzz\")\n",
        "\n",
        "else:\n",
        "  print(var)"
      ]
    }
  ]
}