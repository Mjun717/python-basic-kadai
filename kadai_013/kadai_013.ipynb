{
  "nbformat": 4,
  "nbformat_minor": 0,
  "metadata": {
    "colab": {
      "provenance": []
    },
    "kernelspec": {
      "name": "python3",
      "display_name": "Python 3"
    },
    "language_info": {
      "name": "python"
    }
  },
  "cells": [
    {
      "cell_type": "code",
      "execution_count": 4,
      "metadata": {
        "colab": {
          "base_uri": "https://localhost:8080/"
        },
        "id": "DQwxxegNSp6L",
        "outputId": "f350db9a-52c4-4ef8-9bec-c1d829e3ca54"
      },
      "outputs": [
        {
          "output_type": "execute_result",
          "data": {
            "text/plain": [
              "1650.0000000000002"
            ]
          },
          "metadata": {},
          "execution_count": 4
        }
      ],
      "source": [
        "def calculate(price, tax_rate):\n",
        "  total = price * (1 + tax_rate)\n",
        "\n",
        "  return total\n",
        "\n",
        "calculate(1500, 0.1)"
      ]
    }
  ]
}